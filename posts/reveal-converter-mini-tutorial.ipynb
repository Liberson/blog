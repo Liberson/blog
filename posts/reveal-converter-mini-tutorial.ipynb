{
 "metadata": {
  "name": ""
 },
 "nbformat": 3,
 "nbformat_minor": 0,
 "worksheets": [
  {
   "cells": [
    {
     "cell_type": "markdown",
     "metadata": {},
     "source": [
      "After some weeks of work and a lot of useful colaboration with the IPython team, we now have the reveal converter merged in nbconvert (a conversion utilities for the IPython notebook format).\n",
      "\n",
      "Currently nbconvert is being rewritten... but we also have a reveal converter in the new codebase, so you do not have problems if you begin to use it now, you will be able to use it tomorrow :-)\n",
      "\n",
      "I wrote a little tutorial (a reveal-based notebook slideshow, of course) about how to use reveal converter option inside nbconvert"
     ]
    },
    {
     "cell_type": "markdown",
     "metadata": {},
     "source": [
      "<!-- TEASER_END -->"
     ]
    },
    {
     "cell_type": "markdown",
     "metadata": {},
     "source": [
      ".\n",
      "\n",
      "You can access to it [here](http://www.slideviper.oquanta.info/tutorial/slideshow_tutorial_slides.html) (recommended way).\n",
      "\n",
      "If you want to see it without leaving this page (I do not recommend this last option, it is a small iframe)."
     ]
    },
    {
     "cell_type": "code",
     "collapsed": true,
     "input": [
      "from IPython.display import HTML\n",
      "HTML('<iframe src=http://www.slideviper.oquanta.info/tutorial/slideshow_tutorial_slides.html?useformat=mobile width=700 height=350></iframe>')"
     ],
     "language": "python",
     "metadata": {},
     "outputs": [
      {
       "html": [
        "<iframe src=http://www.slideviper.oquanta.info/tutorial/slideshow_tutorial_slides.html?useformat=mobile width=700 height=350></iframe>"
       ],
       "output_type": "pyout",
       "prompt_number": 1,
       "text": [
        "<IPython.core.display.HTML at 0xb5ed9fac>"
       ]
      }
     ],
     "prompt_number": 1
    },
    {
     "cell_type": "markdown",
     "metadata": {},
     "source": [
      "I hope you use it and report any problem.\n",
      "\n",
      "Cheers.\n",
      "\n",
      "Dami\u00e1n."
     ]
    }
   ],
   "metadata": {}
  }
 ]
}