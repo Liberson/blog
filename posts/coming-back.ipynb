{
 "cells": [
  {
   "cell_type": "markdown",
   "metadata": {
    "collapsed": true
   },
   "source": [
    "##I am back... **Nikoleando** again... with **Jupyter** ;-)"
   ]
  }
 ],
 "metadata": {
  "kernelspec": {
   "display_name": "Python 3",
   "language": "python",
   "name": "python3"
  },
  "language_info": {
   "codemirror_mode": {
    "name": "ipython",
    "version": 3
   },
   "file_extension": ".py",
   "mimetype": "text/x-python",
   "name": "python",
   "nbconvert_exporter": "python",
   "pygments_lexer": "ipython3",
   "version": "3.4.3"
  },
  "nikola": {
   "category": "",
   "date": "2015-06-01 00:42:49 UTC-03:00",
   "description": "",
   "link": "",
   "slug": "coming-back",
   "tags": "nikola, blog, python, IPython, Jupyter",
   "title": "Coming back",
   "type": "text"
  }
 },
 "nbformat": 4,
 "nbformat_minor": 0
}
