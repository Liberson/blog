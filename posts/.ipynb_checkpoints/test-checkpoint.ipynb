{
 "metadata": {
  "name": ""
 },
 "nbformat": 3,
 "nbformat_minor": 0,
 "worksheets": [
  {
   "cells": [
    {
     "cell_type": "markdown",
     "metadata": {},
     "source": [
      "Hi, I am testing Nikola deployment from IPython notebook"
     ]
    }
   ],
   "metadata": {}
  }
 ]
}