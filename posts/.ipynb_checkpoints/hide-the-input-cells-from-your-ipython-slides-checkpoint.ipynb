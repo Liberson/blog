{
 "metadata": {
  "name": ""
 },
 "nbformat": 3,
 "nbformat_minor": 0,
 "worksheets": [
  {
   "cells": [
    {
     "cell_type": "markdown",
     "metadata": {},
     "source": [
      "A tweet arrived...\n",
      "\n",
      "<blockquote class=\"twitter-tweet\" data-partner=\"tweetdeck\"><p><a href=\"https://twitter.com/damian_avila\">@damian_avila</a> Is there a way to only show the output of a cell in an NB slideshow?</p>&mdash; Thomas Wiecki (@TWiecki) <a href=\"https://twitter.com/TWiecki/statuses/388378339716505601\">October 10, 2013</a></blockquote>\n",
      "<script async src=\"//platform.twitter.com/widgets.js\" charset=\"utf-8\"></script>\n",
      "\n",
      "And my answer was **YES**...\n",
      "\n",
      "How we can easily do it? Just follow these few steps:\n",
      "<!-- TEASER_END -->\n",
      "\n",
      "**Rational**: We are going to use the power of `IPython.nbconvert` library to use a modified **jinja** template which will let us hide the` input cells` in our **IPython slides**. To achieve this goal, we are going to use the same approach described in a previous [post](http://www.damian.oquanta.info/posts/mimic-the-ipython-notebook-cell-execution.html). Hence, our `input cells` will be hidden by default, but they will show up if we click on the corresponding `output cell` area.\n",
      "\n",
      "OK, we first wrote the custom template. I named `output_toggle.tpl`:"
     ]
    },
    {
     "cell_type": "code",
     "collapsed": false,
     "input": [
      "!cat -n /media/datos/Ejemplos/output_toggle.tpl"
     ],
     "language": "python",
     "metadata": {},
     "outputs": [
      {
       "output_type": "stream",
       "stream": "stdout",
       "text": [
        "     1\t{%- extends 'slides_reveal.tpl' -%}\r\n",
        "     2\t\r\n",
        "     3\t{% block input_group -%}\r\n",
        "     4\t<div class=\"input_hidden\">\r\n",
        "     5\t{{ super() }}\r\n",
        "     6\t</div>\r\n",
        "     7\t{% endblock input_group %}\r\n",
        "     8\t\r\n",
        "     9\t{%- block header -%}\r\n",
        "    10\t{{ super() }}\r\n",
        "    11\t\r\n",
        "    12\t<script src=\"//ajax.googleapis.com/ajax/libs/jquery/1.10.2/jquery.min.js\"></script>\r\n",
        "    13\t\r\n",
        "    14\t<style type=\"text/css\">\r\n",
        "    15\t//div.output_wrapper {\r\n",
        "    16\t//  margin-top: 0px;\r\n",
        "    17\t//}\r\n",
        "    18\t.input_hidden {\r\n",
        "    19\t  display: none;\r\n",
        "    20\t//  margin-top: 5px;\r\n",
        "    21\t}\r\n",
        "    22\t</style>\r\n",
        "    23\t\r\n",
        "    24\t<script>\r\n",
        "    25\t$(document).ready(function(){\r\n",
        "    26\t  $(\".output_wrapper\").click(function(){\r\n",
        "    27\t      $(this).prev('.input_hidden').slideToggle();\r\n",
        "    28\t  });\r\n",
        "    29\t})\r\n",
        "    30\t</script>\r\n",
        "    31\t{%- endblock header -%}\r\n",
        "    32\t\r\n"
       ]
      }
     ],
     "prompt_number": 1
    },
    {
     "cell_type": "markdown",
     "metadata": {},
     "source": [
      "The code is simple, but for a detailed explanation see my previous [post]((http://www.damian.oquanta.info/posts/mimic-the-ipython-notebook-cell-execution.htm).\n",
      "\n",
      "Briefly, I just change obvious things such as the encompassing of the `input_group` and the calling of `.prev()` method (instead of `.next(`) one) inside the little *javascript* snippet.\n",
      "\n",
      "Now, the second and last step was:\n",
      "\n",
      "`ipython nbconvert your_slides.ipynb --to slides --template output_toggle --post serve`\n",
      "\n",
      "and I got something like this (navigate and try it!):"
     ]
    },
    {
     "cell_type": "markdown",
     "metadata": {},
     "source": [
      "<iframe src=\"http://damianavila.github.io/Miscellaneus/Example_IPython_slides.slides.html#/\" width=\"800\" height=\"600\"></iframe>"
     ]
    },
    {
     "cell_type": "markdown",
     "metadata": {},
     "source": [
      "OK, as you have seen in the example, your **IPython slides** will be delivered showing just the `output cells`... but if you need to show some `input cells`, just click on the corresponding `output cell` and you will get them. Nice, uh!\n",
      "\n",
      "Hope it helps Thomas (and all the other people using the **IPython slides**)!\n",
      "\n",
      "Dami\u00e1n."
     ]
    }
   ],
   "metadata": {}
  }
 ]
}