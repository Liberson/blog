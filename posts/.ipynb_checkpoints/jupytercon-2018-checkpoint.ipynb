{
 "cells": [
  {
   "cell_type": "markdown",
   "metadata": {},
   "source": [
    "JupyterCon 2018 was a great success!\n",
    "\n",
    "If you want to know a little bit more about this conference, you are invited to read the whole post!\n",
    "<!-- TEASER_END -->\n",
    "\n",
    "This is the second edition of JupyterCon. It is amazing to see how things have evolved enough in the last few year that we actually need to run our own conference. I have been involved with the Jupyter ecosystem for about 6 years and I am really happy to see its evolution and exponencial growth.\n",
    "\n",
    "I am very proud to be part of this wonderful community.\n",
    "\n",
    "OK, let me hightlight some of the great things happened at JupyterCon.\n",
    "\n",
    "## Educational track\n",
    "\n",
    "I am pretty happy to see we had an educational track in the conference. Education with (in the) Jupyter (context) is a very important aspect for the Jupyter community and we have great minds behind those efforts. The track is just an aknowledgement of the importance of this topic.\n",
    "\n",
    "If you are interested on this topic, Lorena Barba summarized some aspects of this track in a offitial post at Jupyter blog space: https://blog.jupyter.org/synopsis-jupytercon-2018-education-track-6f9b3f4d8dd9.\n",
    "\n",
    "## JupyterHub everywhere!\n",
    "\n",
    "JupyterHub is filling a niche and that niche is getting even bigger everytime I see that part of the ecosystem.\n",
    "There was a great tutorial about JupyterHub (an amazing resource for starters on this topic) and then, a lot of talks with descriptions of different architecture and use cases in their own institutions, companies, etc.\n",
    "It is really interesting and rewarding to see how people have adopted JupyterHub and how they keep pushing not only on the core aspects but also buiding new things on top of that.\n",
    "\n",
    "## Binder, let's run it!\n",
    "\n",
    "The Binder team provides you with a really simple way to share interactive artifacts. There is a lot of potential on this service. You could use Binder as a computational backend, see examples in this talk: \n",
    "I am pretty sure Binder will bring us a lot of new surprises in the future (btw, ff you can help supporting Binder, that would be very appreciated, of course!).\n",
    "\n",
    "## JupyterLab continuous evolution\n",
    "\n",
    "JupyterLab continue with its evolution into the future. The beta phase is behind us and it is ready for daily usage. So, I recomend you to try it and report back any issue and suggestion. There is also a proliferation of JupyterLab extensions that show us the infinit potential power behind JupyterLab and how the well thought architecture allows you to customize almost every aspect in the application.\n",
    "\n",
    "You can find some extension with the blabla label () to learn more about them and start writing your own extension!\n",
    "\n",
    "## Jupyter Community\n",
    "\n",
    "Even contrarian talks... useful\n",
    "\n",
    "## Open Studio day\n",
    "\n",
    "Great space to help each other.\n",
    "\n",
    "## My talk\n",
    "\n",
    "I presented \n",
    "\n",
    "OK, I thing this is probably enough for a quick summary about the highlights at JupyterCon.\n",
    "\n",
    "Keynotes videos are already available in Youtube, I recommed you these ones:\n",
    "\n",
    "*\n",
    "*\n",
    "*\n",
    "\n",
    "Other videos will be available soon (I will update this post with the link when they are available). In the meantime, you have last year JupyterCon 2017 videos list here: \n",
    "\n"
   ]
  },
  {
   "cell_type": "code",
   "execution_count": null,
   "metadata": {},
   "outputs": [],
   "source": []
  }
 ],
 "metadata": {
  "kernelspec": {
   "display_name": "Python 3",
   "language": "python",
   "name": "python3"
  },
  "language_info": {
   "codemirror_mode": {
    "name": "ipython",
    "version": 3
   },
   "file_extension": ".py",
   "mimetype": "text/x-python",
   "name": "python",
   "nbconvert_exporter": "python",
   "pygments_lexer": "ipython3",
   "version": "3.6.3"
  },
  "nikola": {
   "category": "",
   "date": "2018-09-06 11:36:47 UTC-03:00",
   "description": "",
   "link": "",
   "slug": "jupytercon-2018",
   "tags": "python, Jupyter, JupyterCon, jupyterhub, jupyterlab, Binder, reveal, RISE, slideshow, opensource, conferences",
   "title": "JupyterCon 2018",
   "type": "text"
  }
 },
 "nbformat": 4,
 "nbformat_minor": 2
}
