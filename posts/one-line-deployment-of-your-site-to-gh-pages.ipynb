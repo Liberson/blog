{
 "metadata": {
  "name": ""
 },
 "nbformat": 3,
 "nbformat_minor": 0,
 "worksheets": [
  {
   "cells": [
    {
     "cell_type": "markdown",
     "metadata": {},
     "source": [
      "Do you want to **easily** deploy your site to Github pages?\n",
      "\n",
      "OK, here we go...\n",
      "\n",
      "1. You have to upload your complete blog/site to a new Github repository (you know how to do it... if not, probably you need to learn some things before try this one, hehe). As a plus, now your blog/site is version-controlled!\n",
      "\n",
      "2. Almost for sure, your site/blog lives in the master branch of the new repository, but you need to generated a `gh-pages` branch to push your `build` or `output` folder, I mean your site/blog content to deploy... not all the machinery of your site/blog platform (**Nikola** in my case):\n",
      "<!-- TEASER_END -->\n",
      "\n",
      "  * `git checkout -b gh-pages`\n",
      "  * `git rm -rf .`\n",
      "  * `git commit -am \"First commit to gh-pages branch\"`\n",
      "  * `git push origin gh-pages`\n",
      "\n",
      "3. Now, we will use a **git-subtree** technique to push the `build` or `output` content to the `gh-pages` branch:\n",
      "\n",
      "  * `git checkout master`\n",
      "  * ```git push origin `git subtree split --prefix output gh-pages`:gh-pages --force```\n",
      "    \n",
      "    **Sweet** line... uhh ;-) \n",
      "\n",
      "4. Finally, you will need to run the following line every time you want to update your site/blog!\n",
      "\n",
      "  * `git subtree push --prefix output origin gh-pages`\n",
      "\n",
      "**Note**: Are you getting `git` errors? Just use the **sweet** line again and *force* the update...  \n",
      "\n",
      "If you are using **Nikola**, you can add some of this lines to the `DEPLOY_COMMANDS` in your conf.py file and just run `nikola deploy` after building your site/blog.\n",
      "\n",
      "More easier... impossible... ;-)\n",
      "\n",
      "Dami\u00e1n."
     ]
    },
    {
     "cell_type": "code",
     "collapsed": false,
     "input": [
      "!pwd"
     ],
     "language": "python",
     "metadata": {},
     "outputs": [
      {
       "output_type": "stream",
       "stream": "stdout",
       "text": [
        "/home/damian/Desarrollos/To_PR/SITIOS/Github_Pages/damian_blog/posts\r\n"
       ]
      }
     ],
     "prompt_number": 1
    },
    {
     "cell_type": "code",
     "collapsed": false,
     "input": [
      "!cd .."
     ],
     "language": "python",
     "metadata": {},
     "outputs": [],
     "prompt_number": 2
    },
    {
     "cell_type": "code",
     "collapsed": false,
     "input": [
      "!pwd"
     ],
     "language": "python",
     "metadata": {},
     "outputs": [
      {
       "output_type": "stream",
       "stream": "stdout",
       "text": [
        "/home/damian/Desarrollos/To_PR/SITIOS/Github_Pages/damian_blog/posts\r\n"
       ]
      }
     ],
     "prompt_number": 3
    },
    {
     "cell_type": "code",
     "collapsed": false,
     "input": [
      "cd .."
     ],
     "language": "python",
     "metadata": {},
     "outputs": [
      {
       "output_type": "stream",
       "stream": "stdout",
       "text": [
        "/home/damian/Desarrollos/To_PR/SITIOS/Github_Pages/damian_blog\n"
       ]
      }
     ],
     "prompt_number": 4
    },
    {
     "cell_type": "code",
     "collapsed": false,
     "input": [
      "ls"
     ],
     "language": "python",
     "metadata": {},
     "outputs": [
      {
       "output_type": "stream",
       "stream": "stdout",
       "text": [
        "\u001b[0m\u001b[01;34mcache\u001b[0m/   conf.pyc  \u001b[01;34mgalleries\u001b[0m/  \u001b[01;34mposts\u001b[0m/     \u001b[01;34mstories\u001b[0m/\r\n",
        "conf.py  \u001b[01;34mfiles\u001b[0m/    \u001b[01;34moutput\u001b[0m/     README.md  \u001b[01;34mthemes\u001b[0m/\r\n"
       ]
      }
     ],
     "prompt_number": 5
    },
    {
     "cell_type": "code",
     "collapsed": false,
     "input": [],
     "language": "python",
     "metadata": {},
     "outputs": []
    }
   ],
   "metadata": {}
  }
 ]
}