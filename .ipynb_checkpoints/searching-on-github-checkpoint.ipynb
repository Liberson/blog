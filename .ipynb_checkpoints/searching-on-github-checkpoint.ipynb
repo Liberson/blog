{
 "cells": [
  {
   "cell_type": "markdown",
   "metadata": {},
   "source": [
    "Searching on Github in more powerful than you probably know and the aim of this post is to show you how you can use the search capabilities on Github to have a clear picture of the Issues and PRs you involved with across all (or a subset of) the repos/projects you contribute to.\n",
    "\n",
    "<!-- TEASER_END -->\n",
    "\n",
    "First, we need to analyze how \"no so simple\" queries are interpreted and executed by the search engine on Github.\n",
    "\n",
    "Let's find the Issues I am `involved` with in the **Bokeh** main repository\n",
    "\n"
   ]
  }
 ],
 "metadata": {
  "kernelspec": {
   "display_name": "Python 3",
   "language": "python",
   "name": "python3"
  },
  "language_info": {
   "codemirror_mode": {
    "name": "ipython",
    "version": 3
   },
   "file_extension": ".py",
   "mimetype": "text/x-python",
   "name": "python",
   "nbconvert_exporter": "python",
   "pygments_lexer": "ipython3",
   "version": "3.5.1"
  },
  "nikola": {
   "category": "",
   "date": "2016-06-06 21:03:44 UTC-03:00",
   "description": "",
   "link": "",
   "slug": "searching-on-github",
   "tags": "python, github, Jupyter, api, search",
   "title": "Searching on Github",
   "type": "text"
  }
 },
 "nbformat": 4,
 "nbformat_minor": 0
}
