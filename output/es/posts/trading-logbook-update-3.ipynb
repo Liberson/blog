{
 "cells": [
  {
   "cell_type": "markdown",
   "metadata": {},
   "source": [
    "OK, I have run my models again and it was time to enter the market.\n",
    "\n",
    "Early today, I opened two positions:\n",
    "<!-- TEASER_END -->\n",
    "\n",
    "Date                   |Transaction    |Currency Pair|Price      \n",
    "-----------------------|---------------|-------------|-----------\n",
    "06/26/2017 08:23:35    |BuyMarket \t   |EUR/CHF \t |1.08806\t \n",
    "06/26/2017 08:23:31    |BuyMarket \t   |USD/CHF \t |0.97356 \t \n",
    "\n",
    "\n",
    "**Update 27-Jun-2017**\n",
    "\n",
    "I have opened two more positions:\n",
    "\n",
    "Date                   |Transaction    |Currency Pair|Price      \n",
    "-----------------------|---------------|-------------|-----------\n",
    "06/27/2017 10:02:27    |BuyMarket \t   |EUR/CHF \t |1.08908\n",
    "06/27/2017 10:02:09    |BuyMarket \t   |USD/CHF \t |0.96524\n",
    "\n",
    "Let's see how things evolve in the next few days.\n",
    "\n",
    "Happy trading!"
   ]
  }
 ],
 "metadata": {
  "kernelspec": {
   "display_name": "Python 3",
   "language": "python",
   "name": "python3"
  },
  "language_info": {
   "codemirror_mode": {
    "name": "ipython",
    "version": 3
   },
   "file_extension": ".py",
   "mimetype": "text/x-python",
   "name": "python",
   "nbconvert_exporter": "python",
   "pygments_lexer": "ipython3",
   "version": "3.6.1"
  },
  "nikola": {
   "category": "",
   "date": "2017-06-26 18:29:09 UTC-03:00",
   "description": "",
   "link": "",
   "slug": "trading-logbook-update-3",
   "tags": "python, performance, trading",
   "title": "Trading logbook update 3",
   "type": "text"
  }
 },
 "nbformat": 4,
 "nbformat_minor": 2
}
