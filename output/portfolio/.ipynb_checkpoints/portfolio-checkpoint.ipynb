{
 "metadata": {
  "name": ""
 },
 "nbformat": 3,
 "nbformat_minor": 0,
 "worksheets": [
  {
   "cells": [
    {
     "cell_type": "markdown",
     "metadata": {
      "slideshow": {
       "slide_type": "slide"
      }
     },
     "source": [
      "![](files/damian.jpg)"
     ]
    },
    {
     "cell_type": "heading",
     "level": 1,
     "metadata": {},
     "source": [
      "Damian's portfolio"
     ]
    },
    {
     "cell_type": "heading",
     "level": 1,
     "metadata": {
      "slideshow": {
       "slide_type": "slide"
      }
     },
     "source": [
      "Reveal.js-powered IPython slides"
     ]
    },
    {
     "cell_type": "markdown",
     "metadata": {},
     "source": [
      "### Do you want to build amazing slideshow with IPython?\n",
      "\n",
      "You can easily do it now... and get slides like this portfolio ;-)\n",
      "\n",
      "## [More info](http://www.youtube.com/watch?v=rBS6hmiK-H8)\n",
      "\n",
      "## [Source](https://github.com/ipython/ipython)"
     ]
    },
    {
     "cell_type": "heading",
     "level": 1,
     "metadata": {
      "slideshow": {
       "slide_type": "slide"
      }
     },
     "source": [
      "vIPer"
     ]
    },
    {
     "cell_type": "markdown",
     "metadata": {
      "slideshow": {
       "slide_type": "-"
      }
     },
     "source": [
      "### vIPer is an application specifically designed to work with IPython notebooks.\n",
      "\n",
      "With vIPer you can:\n",
      "\n",
      "* Write and execute IPython notebooks.\n",
      "* Generate static html views of IPython notebooks.\n",
      "* Generate slideshow views of IPython notebooks.\n",
      "* Split your screen to see how your changes in the current notebook are rendered in html and slideshow views.\n",
      "* Record audio and video from your IPython sessions.\n",
      "* Surf the web.\n",
      "\n",
      "And more is comming...\n",
      "\n",
      "## [More info](http://www.youtube.com/watch?v=NVf_giNcNro)\n",
      "\n",
      "## [Source](https://github.com/damianavila/vIPer)"
     ]
    },
    {
     "cell_type": "heading",
     "level": 1,
     "metadata": {
      "slideshow": {
       "slide_type": "slide"
      }
     },
     "source": [
      "IPython plugin for Nikola"
     ]
    },
    {
     "cell_type": "markdown",
     "metadata": {},
     "source": [
      "### Do you love blogging? and use IPython for all your daily task?\n",
      "\n",
      "Ok, if you are a **Nikola** (static site generator) user, now you can use **IPython** as a UI to write your blog post!\n",
      "\n",
      "And the plugin is available inside **Nikola**!\n",
      "\n",
      "## [More info](http://www.damian.oquanta.info/posts/ipython-plugin-for-nikola-updated.html)\n",
      "\n",
      "## [Source](https://github.com/ralsina/nikola/tree/master/nikola/plugins/compile_ipynb)"
     ]
    },
    {
     "cell_type": "heading",
     "level": 1,
     "metadata": {
      "slideshow": {
       "slide_type": "slide"
      }
     },
     "source": [
      "Nikola themes"
     ]
    },
    {
     "cell_type": "markdown",
     "metadata": {},
     "source": [
      "### Do you want a html-slideshow-based theme for you site?\n",
      "\n",
      "OK, you have one below:\n",
      "\n",
      "* **Reveal.js**-based theme for Nikola\n",
      "\n",
      "### And IPython-specific themes to use with the IPython plugin for Nikola\n",
      "\n",
      "* jinja-site-ipython-theme-for-Nikola\n",
      "* xkcd-site-ipython-theme-for-Nikola\n",
      "\n",
      "## Sources:\n",
      "\n",
      "## [reveal theme](https://github.com/ralsina/nikola/tree/master/nikola/data/themes/site-reveal)\n",
      "## [jinja theme](https://github.com/damianavila/jinja-site-ipython-theme-for-Nikola)\n",
      "## [xkcd theme](https://github.com/damianavila/xkcd-site-ipython-theme-for-Nikola)"
     ]
    },
    {
     "cell_type": "heading",
     "level": 1,
     "metadata": {
      "slideshow": {
       "slide_type": "slide"
      }
     },
     "source": [
      "IPython Plugin for NINJA-IDE"
     ]
    },
    {
     "cell_type": "markdown",
     "metadata": {},
     "source": [
      "###Why?\n",
      "\n",
      "Because I work with IPython in a daily basic and I think that it would be a great to get a plugin for NINJA-IDE.\n",
      "\n",
      "###How?\n",
      "\n",
      "I use qwebkit module to get a minimal browser to embed it into a plugin, provided the support given by the NINJA-IDE API. I started to write some code to get a functional working prototype. Later, I found devicenzo coded by Roberto Alsina and I take some code to improve the previous one. Now, I have a version (this one, 0.15) ready to release to the public, so here it is...\n",
      " \n",
      "## [Source](https://github.com/damianavila/IPython-Plugin-for-NINJA-IDE)"
     ]
    },
    {
     "cell_type": "heading",
     "level": 1,
     "metadata": {
      "slideshow": {
       "slide_type": "slide"
      }
     },
     "source": [
      "Linkode (kilink)"
     ]
    },
    {
     "cell_type": "markdown",
     "metadata": {},
     "source": [
      "### Linkode is the useful pastebin!\n",
      "\n",
      "It's a kind of \"short living collaboration space\", a \"dynamic pastebin\".\n",
      "\n",
      "It's live right now in [linkode](http://linkode.org/), give it a try!\n",
      "\n",
      "Some awesome detailes:\n",
      "\n",
      "- you can create linkodes anywhere, whenever, and effortesly.\n",
      "- editable texts, not static!\n",
      "- every new edition creates a child: you have a tree\n",
      "- code/text type autodetection (and coloring!)\n",
      "- permantent linkodes (but still the owner can remove them)\n",
      "- absolutely anonymous (unless you login, which is dead simple)\n",
      "- private URLs: because you can not guess UUIDs\n",
      "\n",
      "You will love it!\n",
      "\n",
      "Btw, I developed the \"intelligent\" code/text type autodetection (and coloring!)\n",
      "\n",
      "## [Source](https://github.com/facundobatista/kilink)"
     ]
    },
    {
     "cell_type": "heading",
     "level": 1,
     "metadata": {
      "slideshow": {
       "slide_type": "slide"
      }
     },
     "source": [
      "Waliki"
     ]
    },
    {
     "cell_type": "markdown",
     "metadata": {},
     "source": [
      "### Waliki is an extensible wiki engine based on Flask.\n",
      "\n",
      "[doc and demo](http://waliki.nqnwebs.com)\n",
      "It's a fork of Alexander Jung's wiki project with few improvements:\n",
      "\n",
      "* extensible architecture\n",
      "* a pluggable Git backend: version control for your content!\n",
      "* reStructuredText support\n",
      "* simple caching\n",
      "* autolinking of internal pages (in reST)\n",
      "* codemirror support\n",
      "\n",
      "In this case, I developed the codemirror support.\n",
      "\n",
      "## [Source](https://github.com/mgaitan/waliki/)"
     ]
    },
    {
     "cell_type": "heading",
     "level": 1,
     "metadata": {
      "slideshow": {
       "slide_type": "slide"
      }
     },
     "source": [
      "Scientific Python"
     ]
    },
    {
     "cell_type": "markdown",
     "metadata": {},
     "source": [
      "### Do you want to use Python for you daily scientific flow...\n",
      "\n",
      "Ok, I will **teach** you how...\n",
      "\n",
      "Here you have a **tutorial** explaining how to use **Python** libraries for your research!\n",
      "\n",
      "## [Sources](https://github.com/damianavila/SciPyConAr_Python_Cientifico)"
     ]
    },
    {
     "cell_type": "heading",
     "level": 1,
     "metadata": {
      "slideshow": {
       "slide_type": "slide"
      }
     },
     "source": [
      "And more..."
     ]
    },
    {
     "cell_type": "markdown",
     "metadata": {},
     "source": [
      "### You want/need to contact me?\n",
      "\n",
      "# [My Email](https://github.com/damianavila)\n",
      "\n",
      "# [My Twitter](http://twitter.com/damian_avila)\n",
      "\n",
      "# [My Github](https://github.com/damianavila)\n",
      "\n",
      "# [My Blog](http://www.damian.oquanta.info)"
     ]
    }
   ],
   "metadata": {}
  }
 ]
}