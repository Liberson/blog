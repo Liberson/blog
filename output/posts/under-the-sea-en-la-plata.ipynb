{
 "metadata": {
  "name": ""
 },
 "nbformat": 3,
 "nbformat_minor": 0,
 "worksheets": [
  {
   "cells": [
    {
     "cell_type": "markdown",
     "metadata": {},
     "source": [
      "Han pasado casi tres semanas... El 2 de abril cayeron sobre la ciudad de La Plata casi 400 mm de agua en 24 hs, concentr\u00e1ndose la mayor parte de dicho caudal en dos o tres horas por la tarde, lo que dio lugar a la m\u00e1s grande inundaci\u00f3n que la ciudad haya registrado en toda su historia."
     ]
    },
    {
     "cell_type": "markdown",
     "metadata": {},
     "source": [
      "<!-- TEASER_END -->"
     ]
    },
    {
     "cell_type": "markdown",
     "metadata": {},
     "source": [
      "![](http://1.bp.blogspot.com/-DbCAlLBC0aE/UWCjj2sV-4I/AAAAAAAA9nM/K9BrQc3TFIk/s1600/INUNDACION.jpg)"
     ]
    },
    {
     "cell_type": "markdown",
     "metadata": {},
     "source": [
      "Impresionante, no les parece?\n",
      "\n",
      "Lamentablemente, en casa el agua llego a 1,60 mts. \n",
      "\n",
      "Obviamente, la mayor\u00eda de las pertenencias quedaron bajo el agua: muebles, electrodomesticos, ropa, biblioteca, documentos, etc.\n",
      "\n",
      "Aca pueden ver la imagen con la que me encontr\u00e9 al d\u00eda siguiente de la inundaci\u00f3n:"
     ]
    },
    {
     "cell_type": "markdown",
     "metadata": {},
     "source": [
      "![](http://www.damian.oquanta.info/galleries/Inundacion/inundacion1.png)"
     ]
    },
    {
     "cell_type": "markdown",
     "metadata": {},
     "source": [
      "Y Lore tratando de esbozar una sonrisa que obviamente enmascaraba una gran tristeza al ver la pieza de Facu en esas condiciones."
     ]
    },
    {
     "cell_type": "markdown",
     "metadata": {},
     "source": [
      "![](http://www.damian.oquanta.info/galleries/Inundacion/inundacion2.png)"
     ]
    },
    {
     "cell_type": "markdown",
     "metadata": {},
     "source": [
      "Gracias a Dios, no tuvimos que vivir la inundaci\u00f3n \"in situ\" ya que est\u00e1bamos volviendo de C\u00f3rdoba (nos hab\u00edamos tomado unos d\u00edas para descansar) en el momento en el que la tormenta se desat\u00f3 con mayor intensidad. Hubiese sido un momento complicad\u00edsimo, probablemente subiendo al techo con Facu a cuestas... mejor no imaginarlo, o si... para estar preparado.\n",
      "\n",
      "Hemos podido salvar algunos muebles, algunos electrodom\u00e9sticos, muchas fotos y la mayor\u00eda de la ropa y el calzado. Pero hemos p\u00e9rdido otras tantas cosas, por ejemplo, la biblioteca, muchos documentos y las computadoras. \n",
      "\n",
      "Ya han pasado tres semanas desde la tormenta, y a\u00fan no pudimos volver a casa. Los hongos se hacen un fest\u00edn en estas situaciones y todav\u00eda quedan algunos creciendo en las paredes a pesar de la limpieza a diario. Probablemente estemos volviendo a fines de esta semana. \n",
      "\n",
      "Y despu\u00e9s... viene la recontrucci\u00f3n, la alba\u00f1iler\u00eda, la pintura, arreglar estufas, etc y comprar todo lo que se perdi\u00f3 y es necesario para la vida diaria. Para los arreglos, todas las manos son bienvenidas, jeje...\n",
      "\n",
      "Quisiera aprovechar este espacio para agradecer a todos aquellos que se preocuparon por nosotros. A todos aquellos que nos dieron una mano, no s\u00f3lo f\u00edsica, poniendo el hombro a la hora de la limpieza, sino tambi\u00e9n d\u00e1ndonos su apoyo constante:\n",
      "\n",
      "* Melisa, Diego y Flavio.\n",
      "* Romi y las hijas de Lore: Clarita y Marina.\n",
      "* Cintia y Pedro. \n",
      "* Michelle y Lucas.\n",
      "* Todo el grupo de amigos del IBYME: Xime, Carito, Norber, Evan, Andre, Nico, Ger, Mer, Gaby y los Galectinos.\n",
      "* David y la gente del LISIN.\n",
      "* La gente de PyAr: Martin Gait\u00e1n, Fisa, entre otros.\n",
      "* y muchos m\u00e1s que no estoy nombrando, pero que tambi\u00e9n estuvieron atentos para subsanar cualquier necesidad.\n",
      "\n",
      "Y unos \u00faltimos agradecimientos adicionales:\n",
      "\n",
      "* Papi y Mami, que siempre est\u00e1n al pie del ca\u00f1on.    \n",
      "* Dan, gracias por estar pendiente en todo momento... y por ser un apoyo constante.\n",
      "* Lore, que puedo decir que no te haya dicho... Gracias por aguantarme, por apoyarme, por todo tu esfuerzo y sacrificio. \n",
      "* Facu, gracias por existir y ser el sol que alumbra y alumbrar\u00e1 todos mis d\u00edas.\n",
      "\n",
      "Gracias totales!\n",
      "\n",
      "Nos vemos en el pr\u00f3ximo post!\n",
      "\n",
      "Dami\u00e1n."
     ]
    }
   ],
   "metadata": {}
  }
 ]
}