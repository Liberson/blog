{
 "cells": [
  {
   "cell_type": "markdown",
   "metadata": {},
   "source": [
    "You are in vacation time but you want to blog something nice to share with your friends.\n",
    "And your blog is powered by **Nikola**.\n",
    "And you are a **Jupyter Notebook** user.\n",
    "But you don't have your laptop with you, because you are on vacation time, remember? ;-)\n",
    "But you still have your phone and some connectivity.\n",
    "What do you think if I tell you you have a complete workflow to write your blogpost, build the site and deploy it just using your phone? But without using computational resources from your phone.\n",
    "\n",
    "Don't you believe me? Just read below and I will show you how this is possible... and fun!\n",
    "<!-- TEASER_END -->\n",
    "\n",
    "## Ingredients\n",
    "\n",
    "First, as with any other recipe, we need some ingredients.\n",
    "\n",
    "1. **Jupyter Notebook**, as our UI to write and manage the computational resources\n",
    "2. **Nikola**, to build the static site\n",
    "3. **Binder**, to provide the computational resources, and secondarily, the UI mentioned in the first item\n",
    "4. **Github**, to persist the whole site\n",
    "\n",
    "## Method\n",
    "\n",
    "Let summarize the whole idea:\n",
    "\n",
    "> We launch a binder instance from a Github repo containing my Nikola-powered blog site and write some content into a new blog post, then I rebuild the site using Nikola (already installed in my binder instance) and finally push the update site to Github's gh-pages to publish the new content (from my binder instance as well).\n",
    "\n",
    "Sounds good, isn't it?\n",
    "\n",
    "### Create a binder for my blog site\n",
    "\n",
    "Do you know [**Binder**](https://mybinder.org/), right? In simple words it *Turn a GitHub repo into a collection of interactive notebooks*. You can find more info about Binder at https://mybinder.readthedocs.io/en/latest/.\n",
    "For the purpose of this post (and the next ones), I just created a new binder introducing my blog site Github repo url into the URL field at mybinder.org (and the path to a specific notebook file) and I got a new url to access my binder instance at https://mybinder.org/v2/gh/damianavila/damian_blog/master?filepath=Start.ipynb  \n",
    "\n",
    "> In fact, I am writing this blog post in a binder instance (I love to do meta stuff ;-)\n",
    "\n",
    "That url pointed me to a Start.ipynb notebook file where I have some cells to create a new post with some tags.\n",
    "\n",
    "### Write the new content\n",
    "\n",
    "OK, this is one easy, it is this very same post ;-) as you probably expected.\n",
    "\n",
    "One interesting note, since your binder is using `git` for internal stuff, you have `git` installed and ready to do your stuff as well. For instance, if my connection is flaky and given that my binder in transient. I can commit the work done so far. Just save the notebook file and run:"
   ]
  },
  {
   "cell_type": "code",
   "execution_count": 1,
   "metadata": {},
   "outputs": [
    {
     "name": "stdout",
     "output_type": "stream",
     "text": [
      "On branch master\r\n",
      "Your branch is up-to-date with 'origin/master'.\r\n",
      "Changes not staged for commit:\r\n",
      "  (use \"git add <file>...\" to update what will be committed)\r\n",
      "  (use \"git checkout -- <file>...\" to discard changes in working directory)\r\n",
      "\r\n",
      "\t\u001b[31mmodified:   ../.ipynb_checkpoints/Start-checkpoint.ipynb\u001b[m\r\n",
      "\t\u001b[31mmodified:   ../Start.ipynb\u001b[m\r\n",
      "\t\u001b[31mmodified:   ../__pycache__/conf.cpython-35.pyc\u001b[m\r\n",
      "\t\u001b[31mmodified:   ../plugins/upgrade_metadata/__pycache__/upgrade_metadata.cpython-35.pyc\u001b[m\r\n",
      "\r\n",
      "Untracked files:\r\n",
      "  (use \"git add <file>...\" to include in what will be committed)\r\n",
      "\r\n",
      "\t\u001b[31m../.bash_logout\u001b[m\r\n",
      "\t\u001b[31m../.bashrc\u001b[m\r\n",
      "\t\u001b[31m../.ipython/\u001b[m\r\n",
      "\t\u001b[31m../.local/\u001b[m\r\n",
      "\t\u001b[31m../.profile\u001b[m\r\n",
      "\t\u001b[31m.ipynb_checkpoints/binder-+-nikola-+-jupyter-+-github-blogging-resourceless-checkpoint.ipynb\u001b[m\r\n",
      "\t\u001b[31mbinder-+-nikola-+-jupyter-+-github-blogging-resourceless.ipynb\u001b[m\r\n",
      "\r\n",
      "no changes added to commit (use \"git add\" and/or \"git commit -a\")\r\n"
     ]
    }
   ],
   "source": [
    "!git status"
   ]
  },
  {
   "cell_type": "code",
   "execution_count": 2,
   "metadata": {},
   "outputs": [],
   "source": [
    "!git add \"binder-+-nikola-+-jupyter-+-github-blogging-resourceless.ipynb\""
   ]
  },
  {
   "cell_type": "code",
   "execution_count": 3,
   "metadata": {},
   "outputs": [
    {
     "name": "stdout",
     "output_type": "stream",
     "text": [
      "[master 7c7f9890] Add (incomplete) new post\r\n",
      " 1 file changed, 146 insertions(+)\r\n",
      " create mode 100644 posts/binder-+-nikola-+-jupyter-+-github-blogging-resourceless.ipynb\r\n"
     ]
    }
   ],
   "source": [
    "!git commit -m \"Add (incomplete) new post\""
   ]
  },
  {
   "cell_type": "markdown",
   "metadata": {},
   "source": [
    "OK, now you need to push this content... and if you try to `git push` it will file unless you have permissions to push to your repo. To achieve that from a binder instance you need to create a personal access token from Github: https://help.github.com/articles/creating-a-personal-access-token-for-the-command-line/. And now you can push your stuff.\n",
    "\n",
    "Note that this personal access token will be useful for further pushes down the road.\n",
    "\n",
    "Also, we need a terminal to be able to provide the username and the token. And the Jupyter interface give us that pretty easily, you can go to the /tree (dashboard) and start a terminal from the dropdown menu (I can probably write a little extension to do this step from the notebook itself... but going to the terminal is pretty easy and quick).\n",
    "\n",
    "Image\n",
    "\n",
    "Now you repo is updated so next time you launch a binder from your repo it will contain your new post, meaning you can write your stuff iteratevely even in a transient platform, sweet!\n",
    "\n",
    "### Rebuild your site with Nikola\n",
    "\n",
    "When your post is ready, you need to rebuild the site using Nikola, but how Nikola end up in my binder instance?\n",
    "Easy as well, you just need to provide a `requirements.txt` file with the dependencies you need and those ones will be included in your binder instance: https://mybinder.readthedocs.io/en/latest/using.html#simple-python-dependencies\n",
    "\n",
    "In my case, the requirement.txt file is pretty easy: https://github.com/damianavila/damian_blog/blob/master/requirements.txt\n",
    "\n",
    "Because all the other pieces I need are already included by default: Jupyter stuff and `git`.\n",
    "\n",
    "OK, now to rebuild your site you just need to run:"
   ]
  },
  {
   "cell_type": "code",
   "execution_count": null,
   "metadata": {},
   "outputs": [],
   "source": [
    "!nikola build"
   ]
  }
 ],
 "metadata": {
  "kernelspec": {
   "display_name": "Python 3",
   "language": "python",
   "name": "python3"
  },
  "language_info": {
   "codemirror_mode": {
    "name": "ipython",
    "version": 3
   },
   "file_extension": ".py",
   "mimetype": "text/x-python",
   "name": "python",
   "nbconvert_exporter": "python",
   "pygments_lexer": "ipython3",
   "version": "3.5.3"
  },
  "nikola": {
   "category": "",
   "date": "2017-12-17 18:12:53 UTC-03:00",
   "description": "",
   "link": "",
   "slug": "binder-+-nikola-+-jupyter-+-github-blogging-resourceless",
   "tags": "Jupyter, nikola, Binder, Github, gh-pages, git, workflow",
   "title": "Binder + Nikola + Jupyter + Github = Blogging resourceless",
   "type": "text"
  }
 },
 "nbformat": 4,
 "nbformat_minor": 2
}
