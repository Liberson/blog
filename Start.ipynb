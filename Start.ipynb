{
 "cells": [
  {
   "cell_type": "markdown",
   "metadata": {},
   "source": [
    "# Adding a new post"
   ]
  },
  {
   "cell_type": "code",
   "execution_count": 1,
   "metadata": {
    "collapsed": false
   },
   "outputs": [],
   "source": [
    "title = \"RISE 4.0.0b1 is available, please test it!\""
   ]
  },
  {
   "cell_type": "code",
   "execution_count": 2,
   "metadata": {
    "collapsed": false
   },
   "outputs": [],
   "source": [
    "tags_list = ['python', 'pip', 'conda', 'linux', 'osx', 'win', 'Jupyter', 'reveal', 'slideshow', 'RISE']"
   ]
  },
  {
   "cell_type": "code",
   "execution_count": 3,
   "metadata": {
    "collapsed": false
   },
   "outputs": [
    {
     "name": "stdout",
     "output_type": "stream",
     "text": [
      "\u001b[33;01m[2016-08-09T19:52:37Z] WARNING: Nikola: The RSS_LINKS_APPEND_QUERY option is deprecated, use FEED_LINKS_APPEND_QUERY instead.\u001b[39;49;00m\n",
      "\u001b[33;01m[2016-08-09T19:52:37Z] WARNING: Nikola: The RSS_READ_MORE_LINK option is deprecated, use FEED_READ_MORE_LINK instead.\u001b[39;49;00m\n",
      "\u001b[33;01m[2016-08-09T19:52:37Z] WARNING: Nikola: Could not guess locale for language es, using locale en_US.UTF-8\u001b[39;49;00m\n",
      "\u001b[33;01m[2016-08-09T19:52:42Z] WARNING: Nikola: In order to USE_BUNDLES, you must install the \"webassets\" Python package.\u001b[39;49;00m\n",
      "\u001b[33;01m[2016-08-09T19:52:42Z] WARNING: bundles: Setting USE_BUNDLES to False.\u001b[39;49;00m\n",
      "Creating New Post\n",
      "-----------------\n",
      "\n",
      "Title: RISE 4.0.0b1 is available, please test it!\n",
      "Scanning posts......done!\n",
      "\u001b[33;01m[2016-08-09T19:52:46Z] NOTICE: compile_ipynb: No kernel specified, assuming \"python3\".\u001b[39;49;00m\n",
      "\u001b[37m[2016-08-09T19:52:47Z] INFO: new_post: Your post's text is at: posts/rise-400b1-is-available-please-test-it.ipynb\u001b[39;49;00m\n"
     ]
    }
   ],
   "source": [
    "tags = ', '.join(tags_list)\n",
    "\n",
    "!nikola new_post -f ipynb -t \"{title}\" --tags=\"{tags}\""
   ]
  },
  {
   "cell_type": "code",
   "execution_count": 4,
   "metadata": {
    "collapsed": false
   },
   "outputs": [
    {
     "name": "stdout",
     "output_type": "stream",
     "text": [
      "http://127.0.0.1:8888/notebooks/posts/rise-400b1-is-available-please-test-it.ipynb\n"
     ]
    }
   ],
   "source": [
    "base_url = \"http://127.0.0.1:\"\n",
    "port = 8888\n",
    "\n",
    "from nikola import utils\n",
    "notebook = \"/notebooks/posts/\" + utils.slugify(title, lang=\"en\") + \".ipynb\"  \n",
    "\n",
    "url = base_url + str(port) + notebook\n",
    "print(url)"
   ]
  }
 ],
 "metadata": {
  "kernelspec": {
   "display_name": "Python 3",
   "language": "python",
   "name": "python3"
  },
  "language_info": {
   "codemirror_mode": {
    "name": "ipython",
    "version": 3
   },
   "file_extension": ".py",
   "mimetype": "text/x-python",
   "name": "python",
   "nbconvert_exporter": "python",
   "pygments_lexer": "ipython3",
   "version": "3.5.1"
  }
 },
 "nbformat": 4,
 "nbformat_minor": 0
}
