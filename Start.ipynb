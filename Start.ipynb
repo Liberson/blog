{
 "cells": [
  {
   "cell_type": "markdown",
   "metadata": {},
   "source": [
    "# Adding a new post"
   ]
  },
  {
   "cell_type": "code",
   "execution_count": 1,
   "metadata": {},
   "outputs": [],
   "source": [
    "title = \"Abandoning the oquanta domain name\""
   ]
  },
  {
   "cell_type": "code",
   "execution_count": 2,
   "metadata": {},
   "outputs": [],
   "source": [
    "tags_list = ['blog', 'gh-pages']"
   ]
  },
  {
   "cell_type": "code",
   "execution_count": 3,
   "metadata": {},
   "outputs": [
    {
     "name": "stdout",
     "output_type": "stream",
     "text": [
      "\u001b[33;01m[2019-01-21T00:51:02Z] WARNING: Nikola: The RSS_LINKS_APPEND_QUERY option is deprecated, use FEED_LINKS_APPEND_QUERY instead.\u001b[39;49;00m\n",
      "\u001b[33;01m[2019-01-21T00:51:02Z] WARNING: Nikola: The RSS_READ_MORE_LINK option is deprecated, use FEED_READ_MORE_LINK instead.\u001b[39;49;00m\n",
      "Creating New Post\n",
      "-----------------\n",
      "\n",
      "Title: Abandoning the oquanta domain name\n",
      "Scanning posts......done!\n",
      "\u001b[33;01m[2019-01-21T00:51:03Z] NOTICE: compile_ipynb: No kernel specified, assuming \"python3\".\u001b[39;49;00m\n",
      "\u001b[37m[2019-01-21T00:51:04Z] INFO: new_post: Your post's text is at: posts/abandoning-the-oquanta-domain-name.ipynb\u001b[39;49;00m\n"
     ]
    }
   ],
   "source": [
    "tags = ', '.join(tags_list)\n",
    "\n",
    "!nikola new_post -f ipynb --title=\"{title}\" --tags=\"{tags}\""
   ]
  },
  {
   "cell_type": "code",
   "execution_count": null,
   "metadata": {},
   "outputs": [],
   "source": []
  }
 ],
 "metadata": {
  "kernelspec": {
   "display_name": "Python 3",
   "language": "python",
   "name": "python3"
  },
  "language_info": {
   "codemirror_mode": {
    "name": "ipython",
    "version": 3
   },
   "file_extension": ".py",
   "mimetype": "text/x-python",
   "name": "python",
   "nbconvert_exporter": "python",
   "pygments_lexer": "ipython3",
   "version": "3.6.3"
  }
 },
 "nbformat": 4,
 "nbformat_minor": 2
}
