{
 "cells": [
  {
   "cell_type": "markdown",
   "metadata": {},
   "source": [
    "# Adding a new post"
   ]
  },
  {
   "cell_type": "code",
   "execution_count": 1,
   "metadata": {},
   "outputs": [],
   "source": [
    "title = \"RISE 5.0.0 is out!\""
   ]
  },
  {
   "cell_type": "code",
   "execution_count": 2,
   "metadata": {},
   "outputs": [],
   "source": [
    "tags_list = ['python', 'pip', 'conda', 'linux', 'osx', 'win', 'Jupyter', 'reveal', 'slideshow', 'RISE']"
   ]
  },
  {
   "cell_type": "code",
   "execution_count": 3,
   "metadata": {},
   "outputs": [
    {
     "name": "stdout",
     "output_type": "stream",
     "text": [
      "\u001b[33;01m[2017-06-13T11:18:31Z] WARNING: Nikola: The RSS_LINKS_APPEND_QUERY option is deprecated, use FEED_LINKS_APPEND_QUERY instead.\u001b[39;49;00m\n",
      "\u001b[33;01m[2017-06-13T11:18:31Z] WARNING: Nikola: The RSS_READ_MORE_LINK option is deprecated, use FEED_READ_MORE_LINK instead.\u001b[39;49;00m\n",
      "Creating New Post\n",
      "-----------------\n",
      "\n",
      "Title: RISE 5.0.0 is out!\n",
      "Scanning posts......done!\n",
      "\u001b[33;01m[2017-06-13T11:18:35Z] NOTICE: compile_ipynb: No kernel specified, assuming \"python3\".\u001b[39;49;00m\n",
      "\u001b[37m[2017-06-13T11:18:36Z] INFO: new_post: Your post's text is at: posts/rise-500-is-out.ipynb\u001b[39;49;00m\n"
     ]
    }
   ],
   "source": [
    "tags = ', '.join(tags_list)\n",
    "\n",
    "!nikola new_post -f ipynb -t \"{title}\" --tags=\"{tags}\""
   ]
  },
  {
   "cell_type": "code",
   "execution_count": 4,
   "metadata": {},
   "outputs": [
    {
     "name": "stdout",
     "output_type": "stream",
     "text": [
      "http://127.0.0.1:8888/notebooks/posts/rise-500-is-out.ipynb\n"
     ]
    }
   ],
   "source": [
    "base_url = \"http://127.0.0.1:\"\n",
    "port = 8888\n",
    "\n",
    "from nikola import utils\n",
    "notebook = \"/notebooks/posts/\" + utils.slugify(title, lang=\"en\") + \".ipynb\"  \n",
    "\n",
    "url = base_url + str(port) + notebook\n",
    "print(url)"
   ]
  },
  {
   "cell_type": "code",
   "execution_count": null,
   "metadata": {
    "collapsed": true
   },
   "outputs": [],
   "source": []
  }
 ],
 "metadata": {
  "kernelspec": {
   "display_name": "Python 3",
   "language": "python",
   "name": "python3"
  },
  "language_info": {
   "codemirror_mode": {
    "name": "ipython",
    "version": 3
   },
   "file_extension": ".py",
   "mimetype": "text/x-python",
   "name": "python",
   "nbconvert_exporter": "python",
   "pygments_lexer": "ipython3",
   "version": "3.6.1"
  }
 },
 "nbformat": 4,
 "nbformat_minor": 1
}
